{
 "cells": [
  {
   "cell_type": "markdown",
   "id": "15bac2b8",
   "metadata": {},
   "source": [
    "1. To what does a relative path refer ?\n",
    "Ans. A relative path refers to a location that is relative to a current directory. Relative paths make use of two special        symbols, a dot (.) ... The current directory is sometimes referred to as the root directory.\n",
    "\n",
    "2. What does an absolute path start with your operating system\n",
    "Ans. An absolute path refers to the complete details needed to locate a file or folder, starting from the root element and     ending with the other subdirectories"
   ]
  },
  {
   "cell_type": "markdown",
   "id": "fede6582",
   "metadata": {},
   "source": [
    "3. What do the functions os.getcwd() and os.chdir() do ?\n",
    "  Ans. getcwd() : CWD stands for Current Working Directory. This function allows you to see what your current working         directory is. chdir(\"path-to-dir\") : Short for CHange DIRectory, this function allows you to set the current     working     directory to a path of your choice."
   ]
  },
  {
   "cell_type": "code",
   "execution_count": 2,
   "id": "1fbbb833",
   "metadata": {},
   "outputs": [
    {
     "data": {
      "text/plain": [
       "'C:\\\\Users\\\\golu'"
      ]
     },
     "execution_count": 2,
     "metadata": {},
     "output_type": "execute_result"
    }
   ],
   "source": [
    "import os\n",
    "os.getcwd()"
   ]
  },
  {
   "cell_type": "code",
   "execution_count": 8,
   "id": "3cd6818c",
   "metadata": {},
   "outputs": [
    {
     "data": {
      "text/plain": [
       "'C:\\\\Users\\\\golu'"
      ]
     },
     "execution_count": 8,
     "metadata": {},
     "output_type": "execute_result"
    }
   ],
   "source": [
    "os.chdir('C:\\\\Users\\\\golu')\n",
    "os.getcwd()"
   ]
  },
  {
   "cell_type": "markdown",
   "id": "5d7c5d72",
   "metadata": {},
   "source": [
    "4. What are the . and .. folders?\n",
    "Ans. A single dot means that the module or package referenced is in the same directory as the current location. Two dots      mean that it is in the parent directory of the current location, in other words the directory above. "
   ]
  },
  {
   "cell_type": "markdown",
   "id": "d54b285b",
   "metadata": {},
   "source": [
    "5. In C:\\bacon\\eggs\\spam.txt, which part is the dir name, and which part is the base name?\n",
    "\n",
    "Ans. In C:\\bacon\\eggs\\spam.txt, which part is the dir name, and which part is the base name?"
   ]
  },
  {
   "cell_type": "markdown",
   "id": "cf22c952",
   "metadata": {},
   "source": [
    "6. What are the three “mode” arguments that can be passed to the open() function?\n",
    "\n",
    "Ans. r - open the file in read only format.\n",
    "     rb-  open the file in read and binary format.\n",
    "     r+ - open the file read and write foramt. Palcing the pointer at the begning."
   ]
  },
  {
   "cell_type": "markdown",
   "id": "f3429574",
   "metadata": {},
   "source": [
    "7. What happens if an existing file is opened in write mode?\n",
    "\n",
    "Ans. The pointer is placed at the beginning of the file and this will overwrite any existing file with the same name. It        will create a new file if one with the same name doesn't exist.04-Sept-2018"
   ]
  },
  {
   "cell_type": "markdown",
   "id": "63c78045",
   "metadata": {},
   "source": [
    "8. How do you tell the difference between read() and readlines()?\n",
    "\n",
    "Ans. ead() reads all of the file's contents into a string, readline reads just a single line from the file.\n",
    "\n",
    "\n",
    "9. What data structure does a shelf value resemble?\n",
    "\n",
    "Ans. A shelf value resembles a dictionary value; it has keys and values, along with keys() and values() methods that work         similarly to the dictionary methods of the same names."
   ]
  },
  {
   "cell_type": "code",
   "execution_count": null,
   "id": "d9fb62ac",
   "metadata": {},
   "outputs": [],
   "source": []
  }
 ],
 "metadata": {
  "kernelspec": {
   "display_name": "Python 3",
   "language": "python",
   "name": "python3"
  },
  "language_info": {
   "codemirror_mode": {
    "name": "ipython",
    "version": 3
   },
   "file_extension": ".py",
   "mimetype": "text/x-python",
   "name": "python",
   "nbconvert_exporter": "python",
   "pygments_lexer": "ipython3",
   "version": "3.8.3"
  }
 },
 "nbformat": 4,
 "nbformat_minor": 5
}
