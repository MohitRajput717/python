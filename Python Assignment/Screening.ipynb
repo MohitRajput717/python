{
 "cells": [
  {
   "cell_type": "code",
   "execution_count": 23,
   "id": "6dae2aa6",
   "metadata": {},
   "outputs": [],
   "source": [
    "#Create a function in python to read the text file and replace specific contentof the file.\n",
    "\n",
    "\n",
    "f =  open(\"example.txt\", \"w\")\n",
    "f.write(\"This is the placement assignment\")\n",
    "f.close()"
   ]
  },
  {
   "cell_type": "code",
   "execution_count": 24,
   "id": "fd6c0544",
   "metadata": {},
   "outputs": [
    {
     "name": "stdout",
     "output_type": "stream",
     "text": [
      "This is the placement assignment\n"
     ]
    }
   ],
   "source": [
    "f=open(\"example.txt\",\"r\")\n",
    "print(f.read())"
   ]
  },
  {
   "cell_type": "code",
   "execution_count": 25,
   "id": "87d4ab72",
   "metadata": {},
   "outputs": [],
   "source": [
    "# Read in the file\n",
    "with open('example.txt', 'r') as file :\n",
    "  filedata = file.read()\n",
    "\n",
    "# Replace the target string\n",
    "filedata = filedata.replace('placement', 'screening')\n",
    "\n",
    "# Write the file out again\n",
    "with open('example.txt', 'w') as file:\n",
    "  file.write(filedata)"
   ]
  },
  {
   "cell_type": "code",
   "execution_count": 26,
   "id": "cf92f365",
   "metadata": {},
   "outputs": [
    {
     "name": "stdout",
     "output_type": "stream",
     "text": [
      "This is the screening assignment\n"
     ]
    }
   ],
   "source": [
    "f=open(\"example.txt\",\"r\")\n",
    "print(f.read())"
   ]
  },
  {
   "cell_type": "code",
   "execution_count": 28,
   "id": "50d60caf",
   "metadata": {},
   "outputs": [
    {
     "name": "stdout",
     "output_type": "stream",
     "text": [
      "I can walk and run\n",
      "I can swim\n",
      "I can bark\n",
      "I can roar\n"
     ]
    }
   ],
   "source": [
    "#2. Demonstrate use of abstract class, multiple inheritance and decorator in python using examples.\n",
    "\n",
    "\n",
    "from abc import ABC, abstractmethod\n",
    "class Animal(ABC):\n",
    " \n",
    "    def move(self):\n",
    "        pass\n",
    " \n",
    "class Human(Animal):\n",
    " \n",
    "    def move(self):\n",
    "        print(\"I can walk and run\")\n",
    " \n",
    "class wheale(Animal):\n",
    " \n",
    "    def move(self):\n",
    "        print(\"I can swim\")\n",
    " \n",
    "class Dog(Animal):\n",
    " \n",
    "    def move(self):\n",
    "        print(\"I can bark\")\n",
    " \n",
    "class Lion(Animal):\n",
    " \n",
    "    def move(self):\n",
    "        print(\"I can roar\")\n",
    "         \n",
    "# Driver code\n",
    "R = Human()\n",
    "R.move()\n",
    " \n",
    "K = wheale()\n",
    "K.move()\n",
    " \n",
    "R = Dog()\n",
    "R.move()\n",
    " \n",
    "K = Lion()\n",
    "K.move()"
   ]
  },
  {
   "cell_type": "code",
   "execution_count": null,
   "id": "f5781c35",
   "metadata": {},
   "outputs": [],
   "source": []
  }
 ],
 "metadata": {
  "kernelspec": {
   "display_name": "Python 3",
   "language": "python",
   "name": "python3"
  },
  "language_info": {
   "codemirror_mode": {
    "name": "ipython",
    "version": 3
   },
   "file_extension": ".py",
   "mimetype": "text/x-python",
   "name": "python",
   "nbconvert_exporter": "python",
   "pygments_lexer": "ipython3",
   "version": "3.8.3"
  }
 },
 "nbformat": 4,
 "nbformat_minor": 5
}
