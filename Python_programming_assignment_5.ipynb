{
 "cells": [
  {
   "cell_type": "code",
   "execution_count": 26,
   "id": "1853b789",
   "metadata": {},
   "outputs": [
    {
     "name": "stdout",
     "output_type": "stream",
     "text": [
      "Enter first number: 55\n",
      "Enter second number: 69\n",
      "The L.C.M. of 55 and 69 is 3795\n"
     ]
    }
   ],
   "source": [
    "#Write a Python Program to Find LCM?\n",
    "# defining a function to calculate LCM  \n",
    "def calculate_lcm(x, y):  \n",
    "    # selecting the greater number  \n",
    "    if x > y:  \n",
    "        greater = x  \n",
    "    else:  \n",
    "        greater = y  \n",
    "    while(True):  \n",
    "        if((greater % x == 0) and (greater % y == 0)):  \n",
    "            lcm = greater  \n",
    "            break  \n",
    "        greater += 1  \n",
    "    return lcm    \n",
    "  \n",
    "# taking input from users  \n",
    "num1 = int(input(\"Enter first number: \"))  \n",
    "num2 = int(input(\"Enter second number: \"))  \n",
    "# printing the result for the users  \n",
    "print(\"The L.C.M. of\", num1,\"and\", num2,\"is\", calculate_lcm(num1, num2)) \n",
    "\n"
   ]
  },
  {
   "cell_type": "code",
   "execution_count": 27,
   "id": "88dc3a90",
   "metadata": {},
   "outputs": [
    {
     "name": "stdout",
     "output_type": "stream",
     "text": [
      "Enter first number: 55\n",
      "Enter second number: 35\n",
      "The H.C.F. of 55 and 35 is 5\n"
     ]
    }
   ],
   "source": [
    "#2. Write a Python Program to Find HCF?\n",
    "\n",
    "def calculate_hcf(x, y):  \n",
    "    # selecting the smaller number  \n",
    "    if x > y:  \n",
    "        smaller = y  \n",
    "    else:  \n",
    "        smaller = x  \n",
    "    for i in range(1,smaller + 1):  \n",
    "        if((x % i == 0) and (y % i == 0)):  \n",
    "            hcf = i  \n",
    "    return hcf  \n",
    "  \n",
    "# taking input from users  \n",
    "num1 = int(input(\"Enter first number: \"))  \n",
    "num2 = int(input(\"Enter second number: \"))  \n",
    "# printing the result for the users  \n",
    "print(\"The H.C.F. of\", num1,\"and\", num2,\"is\", calculate_hcf(num1, num2))  "
   ]
  },
  {
   "cell_type": "code",
   "execution_count": 28,
   "id": "11945221",
   "metadata": {},
   "outputs": [
    {
     "name": "stdout",
     "output_type": "stream",
     "text": [
      "The decimal value of 344 is:\n",
      "0b101011000 in binary.\n",
      "0o530 in octal.\n",
      "0x158 in hexadecimal.\n"
     ]
    }
   ],
   "source": [
    "#3. Write a Python Program to Convert Decimal to Binary, Octal and Hexadecimal?\n",
    "\n",
    "# Python program to convert decimal into other number systems\n",
    "dec = 344\n",
    "\n",
    "print(\"The decimal value of\", dec, \"is:\")\n",
    "print(bin(dec), \"in binary.\")\n",
    "print(oct(dec), \"in octal.\")\n",
    "print(hex(dec), \"in hexadecimal.\")\n"
   ]
  },
  {
   "cell_type": "code",
   "execution_count": 29,
   "id": "a8ed00fa",
   "metadata": {},
   "outputs": [
    {
     "name": "stdout",
     "output_type": "stream",
     "text": [
      "The ASCII value of 'p' is 112\n"
     ]
    }
   ],
   "source": [
    "#4. Write a Python Program To Find ASCII value of a character?\n",
    "\n",
    "# Program to find the ASCII value of the given character\n",
    "\n",
    "c = 'p'\n",
    "print(\"The ASCII value of '\" + c + \"' is\", ord(c))\n",
    "\n"
   ]
  },
  {
   "cell_type": "code",
   "execution_count": null,
   "id": "6b53b8ae",
   "metadata": {},
   "outputs": [],
   "source": [
    "#5. Write a Python Program to Make a Simple Calculator with 4 basic mathematical operations?\n",
    "\n",
    "def add(x,y):\n",
    "    return x+y\n",
    "\n",
    "def subtract(x,y):\n",
    "    return x-y\n",
    "\n",
    "def multiply(x,y):\n",
    "    return x*y\n",
    "\n",
    "def divide(x,y):\n",
    "    return x/y\n",
    "\n",
    "print(\"1.add\")\n",
    "print(\"2.subtract\")\n",
    "print(\"3.multiply\")\n",
    "print(\"4.divide\")\n",
    "\n",
    "while True:\n",
    "    choice = input(\"enter the integer(1/2/3/4):\")"
   ]
  },
  {
   "cell_type": "code",
   "execution_count": null,
   "id": "05ebb92e",
   "metadata": {},
   "outputs": [],
   "source": [
    "add(4,5)"
   ]
  },
  {
   "cell_type": "code",
   "execution_count": null,
   "id": "3573cce9",
   "metadata": {},
   "outputs": [],
   "source": []
  }
 ],
 "metadata": {
  "kernelspec": {
   "display_name": "Python 3",
   "language": "python",
   "name": "python3"
  },
  "language_info": {
   "codemirror_mode": {
    "name": "ipython",
    "version": 3
   },
   "file_extension": ".py",
   "mimetype": "text/x-python",
   "name": "python",
   "nbconvert_exporter": "python",
   "pygments_lexer": "ipython3",
   "version": "3.8.3"
  }
 },
 "nbformat": 4,
 "nbformat_minor": 5
}
