{
 "cells": [
  {
   "cell_type": "code",
   "execution_count": 2,
   "id": "2d34cc49",
   "metadata": {},
   "outputs": [
    {
     "data": {
      "text/plain": [
       "[0, 1, 2, 3, 4, 5, 6, 7, 8, 9]"
      ]
     },
     "execution_count": 2,
     "metadata": {},
     "output_type": "execute_result"
    }
   ],
   "source": [
    "#1) . What is the difference between enclosing a list comprehension in square brackets and parentheses?\n",
    "#comprehension with squar brackets\n",
    "[i for i in range(10)]\n"
   ]
  },
  {
   "cell_type": "code",
   "execution_count": 3,
   "id": "85051e0e",
   "metadata": {},
   "outputs": [
    {
     "data": {
      "text/plain": [
       "<generator object <genexpr> at 0x000002698DF592E0>"
      ]
     },
     "execution_count": 3,
     "metadata": {},
     "output_type": "execute_result"
    }
   ],
   "source": [
    "#Parentheses is on simple bracket\n",
    "(i for i in range(10))"
   ]
  },
  {
   "cell_type": "code",
   "execution_count": 4,
   "id": "5d0ab68c",
   "metadata": {},
   "outputs": [
    {
     "name": "stdout",
     "output_type": "stream",
     "text": [
      "Dog\n",
      "CAt\n",
      "Bear\n"
     ]
    }
   ],
   "source": [
    "#2) What is the relationship between generators and iterators?\n",
    "#Ans. An iterator is an object which contains a countable number of values and it is used to iterate over iterable objects like list, tuples etc Using an iterator- iter() keyword is used to create an iterator containing an iterable object. next() keyword is used to call the next element in the iterable object.\n",
    "# iterator\n",
    "iter_list = iter(['Dog', 'CAt', 'Bear'])\n",
    "print(next(iter_list))\n",
    "print(next(iter_list))\n",
    "print(next(iter_list))\n"
   ]
  },
  {
   "cell_type": "code",
   "execution_count": 12,
   "id": "5ab1dea4",
   "metadata": {},
   "outputs": [
    {
     "data": {
      "text/plain": [
       "<generator object sq at 0x000002698DF59F90>"
      ]
     },
     "execution_count": 12,
     "metadata": {},
     "output_type": "execute_result"
    }
   ],
   "source": [
    "#ans. Generator It is another way of creating iterators in a simple way where it uses the keyword “yield” instead of returning it in a defined function Generators are implemented using a function Here, the yield function returns the data without affecting or exiting the function. It will return a sequence of data in an iterable format where we need to iterate over the sequence to use the data as they won’t store the entire sequence in the memory By using next() function we can iterate the output of generator function\n",
    "# GEnerator \n",
    "\n",
    "def sq(n):\n",
    "    for i in range(1, n+1):\n",
    "        yield i*i\n",
    "lst =sq(6)\n",
    "lst"
   ]
  },
  {
   "cell_type": "code",
   "execution_count": 18,
   "id": "02d164f9",
   "metadata": {},
   "outputs": [
    {
     "ename": "StopIteration",
     "evalue": "",
     "output_type": "error",
     "traceback": [
      "\u001b[1;31m---------------------------------------------------------------------------\u001b[0m",
      "\u001b[1;31mStopIteration\u001b[0m                             Traceback (most recent call last)",
      "\u001b[1;32m<ipython-input-18-32691218864b>\u001b[0m in \u001b[0;36m<module>\u001b[1;34m\u001b[0m\n\u001b[1;32m----> 1\u001b[1;33m \u001b[0mprint\u001b[0m\u001b[1;33m(\u001b[0m\u001b[0mnext\u001b[0m\u001b[1;33m(\u001b[0m\u001b[0mlst\u001b[0m\u001b[1;33m)\u001b[0m\u001b[1;33m)\u001b[0m\u001b[1;33m\u001b[0m\u001b[1;33m\u001b[0m\u001b[0m\n\u001b[0m\u001b[0;32m      2\u001b[0m \u001b[0mprint\u001b[0m\u001b[1;33m(\u001b[0m\u001b[0mnext\u001b[0m\u001b[1;33m(\u001b[0m\u001b[0mlst\u001b[0m\u001b[1;33m)\u001b[0m\u001b[1;33m)\u001b[0m\u001b[1;33m\u001b[0m\u001b[1;33m\u001b[0m\u001b[0m\n",
      "\u001b[1;31mStopIteration\u001b[0m: "
     ]
    }
   ],
   "source": [
    "print(next(lst))\n",
    "print(next(lst))\n"
   ]
  },
  {
   "cell_type": "code",
   "execution_count": null,
   "id": "46ea8557",
   "metadata": {},
   "outputs": [],
   "source": [
    "#3) What are the signs that a function is a generator function?\n",
    "#Ans. If a function contains at least one yield statement (it may contain other yield or return statements), it becomes a generator function. Both yield and return will return some value from a function."
   ]
  },
  {
   "cell_type": "code",
   "execution_count": 19,
   "id": "1bcacd14",
   "metadata": {},
   "outputs": [],
   "source": [
    "#4) What is the purpose of a yield statement?\n",
    "#Ans. A yield statement looks much like a return statement, except that instead of stopping execution of the function and returning, yield instead provides a value to the code looping over the generator and pauses execution of the generator function"
   ]
  },
  {
   "cell_type": "code",
   "execution_count": 20,
   "id": "277c7fe0",
   "metadata": {},
   "outputs": [],
   "source": [
    "#5) What is the relationship between map calls and list comprehensions? Make a comparison and contrast between the two.\n",
    "#List comprehension is more concise and easier to read as compared to map. List comprehension are used when a list of results is required as map only returns a map object and does not return any list. Map is faster in case of calling an already defined function (as no lambda is required"
   ]
  },
  {
   "cell_type": "code",
   "execution_count": null,
   "id": "dac1fdf2",
   "metadata": {},
   "outputs": [],
   "source": []
  }
 ],
 "metadata": {
  "kernelspec": {
   "display_name": "Python 3",
   "language": "python",
   "name": "python3"
  },
  "language_info": {
   "codemirror_mode": {
    "name": "ipython",
    "version": 3
   },
   "file_extension": ".py",
   "mimetype": "text/x-python",
   "name": "python",
   "nbconvert_exporter": "python",
   "pygments_lexer": "ipython3",
   "version": "3.8.3"
  }
 },
 "nbformat": 4,
 "nbformat_minor": 5
}
