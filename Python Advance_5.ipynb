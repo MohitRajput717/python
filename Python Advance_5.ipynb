{
 "cells": [
  {
   "cell_type": "markdown",
   "id": "b2b6ada4",
   "metadata": {},
   "source": [
    "Q1. What is the meaning of multiple inheritance?\n",
    "\n",
    "Answer: Multiple inheritance means that a subclass can inherit from two or more superclasses."
   ]
  },
  {
   "cell_type": "code",
   "execution_count": 11,
   "id": "96dde7b7",
   "metadata": {},
   "outputs": [
    {
     "name": "stdout",
     "output_type": "stream",
     "text": [
      "multi_task\n",
      "Name: ashish\n"
     ]
    }
   ],
   "source": [
    "#multiple inheritence\n",
    "class Ineuron:\n",
    "    company_website = 'https://ineuron.ai/'\n",
    "    name = 'iNeuron'\n",
    " \n",
    "    def contact_details(self):\n",
    "        print('Contact us at ', self.company_website)\n",
    "\n",
    "class OS:\n",
    "    multi_task = True\n",
    "    os_name = 'Windows OS'\n",
    "    name = \"ashish\"\n",
    "\n",
    "class windows(OS, Ineuron):\n",
    "    def __init__(self):\n",
    "        if self.multi_task is True:\n",
    "            print('multi_task')\n",
    "        print('Name: {}'.format(self.name))\n",
    " \n",
    "windows = windows()"
   ]
  },
  {
   "cell_type": "markdown",
   "id": "30a91871",
   "metadata": {},
   "source": [
    "Q2. What is the concept of delegation?\n",
    "\n",
    "Ans2 Delegation is an object oriented technique (also called a design pattern). Let's say we have an object x and want to change the behaviour of just one of its methods. we can create a new class that provides a new implementation of the method we're interested in changing and delegates all other methods to the corresponding method of x."
   ]
  },
  {
   "cell_type": "code",
   "execution_count": 14,
   "id": "cd204a8f",
   "metadata": {},
   "outputs": [],
   "source": [
    "class UpperOut:\n",
    "  def __init__(self, outfile):\n",
    "    self.__outfile = outfile\n",
    "  def write(self, s):\n",
    "    self.__outfile.write(s.upper())\n",
    "  def __getattr__(self, name):\n",
    "    return getattr(self.__outfile, name)\n"
   ]
  },
  {
   "cell_type": "markdown",
   "id": "6f4011fa",
   "metadata": {},
   "source": [
    "Q3. What is the concept of composition?\n",
    "\n",
    "Answer: It is one of the fundamental concepts of Object-Oriented Programming. In this concept, we describe a class that references to one or more objects of other classes as an Instance variable. Here, by using the class name or by creating the object we can access the members of one class inside another class. It enables creating complex types by combining objects of different classes. It means that a class Composite can contain an object of another class Component. This type of relationship is known as Has-A Relation.\n",
    "\n",
    "class A :\n",
    "\n",
    "  variables of class A\n",
    "  methods of class A\n",
    "  ...\n",
    "  ...\n",
    "class B :\n",
    "\n",
    "  by using \"obj\" we can access member's of class A.\n",
    "  obj = A()\n",
    "  variables of class B\n",
    "  methods of class B\n",
    "  ...\n",
    "  ..."
   ]
  },
  {
   "cell_type": "markdown",
   "id": "550efd8f",
   "metadata": {},
   "source": [
    "Q4. What are bound methods and how do we use them?\n",
    "\n",
    "Answer: A bound method is the one which is dependent on the instance of the class as the first argument. It passes the instance as the first argument which is used to access the variables and functions. In Python 3 and newer versions of python, all functions in the class are by default bound methods."
   ]
  },
  {
   "cell_type": "markdown",
   "id": "2b4fd0bc",
   "metadata": {},
   "source": [
    "Q5. What is the purpose of pseudoprivate attributes?\n",
    "\n",
    "Answer: Pseudoprivate attributes are useful in larger frameworks or tools, both to avoid introducing new method names that might accidentally hide definitions elsewhere in the class tree and to reduce the chance of internal methods being replaced by names defined lower in the tree."
   ]
  },
  {
   "cell_type": "code",
   "execution_count": 15,
   "id": "08eaa8a2",
   "metadata": {},
   "outputs": [
    {
     "name": "stdout",
     "output_type": "stream",
     "text": [
      "mohit\n",
      "mohit\n"
     ]
    }
   ],
   "source": [
    "class Info:\n",
    "    def __init__(self):\n",
    "        self.__name = 'mohit'\n",
    "    def __say(self):\n",
    "        return self.__name\n",
    "a = Info()\n",
    "print(a._Info__name) \n",
    "print(a._Info__say())"
   ]
  },
  {
   "cell_type": "code",
   "execution_count": null,
   "id": "3bbd3c62",
   "metadata": {},
   "outputs": [],
   "source": []
  }
 ],
 "metadata": {
  "kernelspec": {
   "display_name": "Python 3",
   "language": "python",
   "name": "python3"
  },
  "language_info": {
   "codemirror_mode": {
    "name": "ipython",
    "version": 3
   },
   "file_extension": ".py",
   "mimetype": "text/x-python",
   "name": "python",
   "nbconvert_exporter": "python",
   "pygments_lexer": "ipython3",
   "version": "3.8.3"
  }
 },
 "nbformat": 4,
 "nbformat_minor": 5
}
