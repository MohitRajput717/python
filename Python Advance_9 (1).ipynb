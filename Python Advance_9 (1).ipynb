{
 "cells": [
  {
   "cell_type": "markdown",
   "id": "09e77161",
   "metadata": {},
   "source": [
    "Q1. In Python 3.X, what are the names and functions of string object types?\n",
    "\n",
    "Ans Answer: There are many string functions some of them are mentioned below isascii(), islower(), isdigit(), upper(), lower(), lstrip(). rstrip()\n",
    "\n",
    "basically after definign the string we can use (dot) and them tab in jupyter notebook or ctrl+space in colab to access these we don't need to remember them."
   ]
  },
  {
   "cell_type": "markdown",
   "id": "4a281ebd",
   "metadata": {},
   "source": [
    "Q2. How do the string forms in Python 3.X vary in terms of operations?\n",
    "\n",
    "Ans. In Python3 default format of strings is Unicode Whereas in Pyton2 we need to explicitly mention Unicode value using u.\n",
    "\n",
    "\n",
    "\n",
    "\n",
    "Q3. In 3.X, how do you put non-ASCII Unicode characters in a string?\n",
    "\n",
    "Ans. In order to use non-ASCII characters, Python requires explicit encoding and decoding of strings into Unicode. we can check using the ascii value using ord()\n",
    "\n",
    "\n"
   ]
  },
  {
   "cell_type": "code",
   "execution_count": 4,
   "id": "e44aa60c",
   "metadata": {},
   "outputs": [
    {
     "data": {
      "text/plain": [
       "33"
      ]
     },
     "execution_count": 4,
     "metadata": {},
     "output_type": "execute_result"
    }
   ],
   "source": [
    "#example\n",
    "ord(\"a\")\n",
    "\n",
    "ord(\"!\")"
   ]
  },
  {
   "cell_type": "markdown",
   "id": "153e4270",
   "metadata": {},
   "source": [
    "Q4. In Python 3.X, what are the key differences between text-mode and binary-mode files?\n",
    "\n",
    "Ans. The major difference between these two is that a text file contains textual information in the form of alphabets, digits and special characters or symbols. On the other hand, a binary file contains bytes or a compiled version of a text file.\n",
    "\n",
    "\n",
    "Q5. How can you interpret a Unicode text file containing text encoded in a different encoding than your platform's default?\n",
    "\n",
    "Ans. we can do it by hit and trieal trying different types of ending like utf-8, utf-16 etc.\n",
    "\n",
    "\n",
    "\n",
    "\n"
   ]
  },
  {
   "cell_type": "code",
   "execution_count": 7,
   "id": "8e2c9527",
   "metadata": {},
   "outputs": [
    {
     "name": "stdout",
     "output_type": "stream",
     "text": [
      "b'\\xd1\\x83\\xd0\\xbb\\xd1\\x8b\\xd0\\xb1\\xd0\\xb0\\xd1\\x82\\xd1\\x8c\\xd1\\x81\\xd1\\x8f \\xd0\\x92\\xd0\\xbb\\xd0\\xb0\\xd0\\xb4\\xd0\\xb8\\xd0\\xbc\\xd0\\xb8\\xd1\\x80 \\xd0\\x9f\\xd1\\x83\\xd1\\x82\\xd0\\xb8\\xd0\\xbd'\n",
      "\n",
      "b'\\xd1\\x83\\xd0\\xbb\\xd1\\x8b\\xd0\\xb1\\xd0\\xb0\\xd1\\x82\\xd1\\x8c\\xd1\\x81\\xd1\\x8f \\xd0\\x92\\xd0\\xbb\\xd0\\xb0\\xd0\\xb4\\xd0\\xb8\\xd0\\xbc\\xd0\\xb8\\xd1\\x80 \\xd0\\x9f\\xd1\\x83\\xd1\\x82\\xd0\\xb8\\xd0\\xbd'\n"
     ]
    }
   ],
   "source": [
    "#Q6. What is the best way to make a Unicode text file in a particular encoding format?\n",
    "\n",
    "unicode_text = u\"улыбаться Владимир Путин\"\n",
    "encoded_unicode_text = unicode_text.encode(\"utf-8\")\n",
    "print(encoded_unicode_text,end=\"\\n\\n\")\n",
    "\n",
    "w_file = open(\"w_file.txt\",\"wb\")\n",
    "w_file.write(encoded_unicode_text)\n",
    "w_file.close()\n",
    "\n",
    "r_file = open(\"w_file.txt\",\"rb\")\n",
    "data = r_file.read()\n",
    "print(data)"
   ]
  },
  {
   "cell_type": "markdown",
   "id": "4cf5ab93",
   "metadata": {},
   "source": [
    "\n",
    "Q7. What qualifies ASCII text as a form of Unicode text?\n",
    "\n",
    "Ans. The first 128 Unicode code points represent the ASCII characters, which means that any ASCII text is also a UTF-8 text. As long as it contains no code points in the reserved range U+D800–U+DFFF, a UCS-2 text is valid UTF-16 text\n",
    "\n",
    "\n",
    "\n",
    "\n",
    "Q8. How much of an effect does the change in string types in Python 3.X have on your code?\n",
    "\n",
    "Ans. Python 3 stores strings as Unicode by default whereas Python 2 requires you to mark a string with a u if you want to store it as Unicode. Unicode strings are more versatile than ASCII strings, which are the Python 3.X default, as they can store letters from foreign languages as well as emoji and the standard Roman letters and numerals.\n"
   ]
  },
  {
   "cell_type": "code",
   "execution_count": null,
   "id": "de9a744d",
   "metadata": {},
   "outputs": [],
   "source": []
  }
 ],
 "metadata": {
  "kernelspec": {
   "display_name": "Python 3",
   "language": "python",
   "name": "python3"
  },
  "language_info": {
   "codemirror_mode": {
    "name": "ipython",
    "version": 3
   },
   "file_extension": ".py",
   "mimetype": "text/x-python",
   "name": "python",
   "nbconvert_exporter": "python",
   "pygments_lexer": "ipython3",
   "version": "3.8.3"
  }
 },
 "nbformat": 4,
 "nbformat_minor": 5
}
