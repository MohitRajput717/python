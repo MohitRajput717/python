{
 "cells": [
  {
   "cell_type": "code",
   "execution_count": 14,
   "id": "fe0d8211",
   "metadata": {},
   "outputs": [
    {
     "data": {
      "text/plain": [
       "43"
      ]
     },
     "execution_count": 14,
     "metadata": {},
     "output_type": "execute_result"
    }
   ],
   "source": [
    "#1. Set the variable test1 to the string 'This is a test of the emergency text system,' and save test1 to a file named test.txt.\n",
    "test1 = \"This is a test of the emergency text system\"\n",
    "f = open('test1.txt','w')\n",
    "f.write(test1)\n"
   ]
  },
  {
   "cell_type": "code",
   "execution_count": 15,
   "id": "00ab58ac",
   "metadata": {},
   "outputs": [
    {
     "data": {
      "text/plain": [
       "'This is a test of the emergency text system'"
      ]
     },
     "execution_count": 15,
     "metadata": {},
     "output_type": "execute_result"
    }
   ],
   "source": [
    "#2. Read the contents of the file test.txt into the variable test2. Is there a difference between test 1 and test 2?\n",
    "file2 = open('test1.txt','r')\n",
    "test2 = file2.readline()\n",
    "test2\n",
    "\n"
   ]
  },
  {
   "cell_type": "code",
   "execution_count": 16,
   "id": "c0a27b14",
   "metadata": {},
   "outputs": [
    {
     "name": "stdout",
     "output_type": "stream",
     "text": [
      "both are same\n"
     ]
    }
   ],
   "source": [
    "if test1 == test2:\n",
    "    print(\"both are same\")"
   ]
  },
  {
   "cell_type": "code",
   "execution_count": 20,
   "id": "3598798e",
   "metadata": {},
   "outputs": [],
   "source": [
    "'''3. Create a CSV file called books.csv by using these lines:\n",
    "title,author,year\n",
    "The Weirdstone of Brisingamen,Alan Garner,1960\n",
    "Perdido Street Station,China Miéville,2000\n",
    "Thud!,Terry Pratchett,2005\n",
    "The Spellman Files,Lisa Lutz,2007\n",
    "Small Gods,Terry Pratchett,1992'''\n",
    "\n",
    "import csv \n",
    "\n",
    "rows = [['title','author','year'],\n",
    "      [ 'The Weirdstone of Brisingamen','Alan Garner',1960],\n",
    "['Perdido Street Station','China Miéville',2000],\n",
    "['Thud!,Terry', 'Pratchett',2005],\n",
    "['The Spellman Files','Lisa Lutz',2007],\n",
    "['Small Gods','Terry Pratchett',1992]]\n",
    "\n",
    "with open('book1.csv','w',newline='') as file:\n",
    "    writer= csv.writer(file)\n",
    "    writer.writerows(rows)\n",
    "\n"
   ]
  },
  {
   "cell_type": "code",
   "execution_count": 23,
   "id": "e1658854",
   "metadata": {},
   "outputs": [],
   "source": [
    "#4. Use the sqlite3 module to create a SQLite database called books.db, and a table called books with these fields: title (text), author (text), and year (integer).\n",
    "\n",
    "import sqlite3\n",
    "conn = sqlite3.connect('book1.db')\n",
    "c = conn.cursor()\n",
    "\n",
    "c.execute('create table book1(title varchar(30), author varchar(30), year int)')\n",
    "conn.commit()"
   ]
  },
  {
   "cell_type": "code",
   "execution_count": 27,
   "id": "c5cd53a4",
   "metadata": {},
   "outputs": [
    {
     "data": {
      "text/plain": [
       "5"
      ]
     },
     "execution_count": 27,
     "metadata": {},
     "output_type": "execute_result"
    }
   ],
   "source": [
    "#5. Read books.csv and insert its data into the book table.\n",
    "import pandas as pd\n",
    "read_book1 = pd.read_csv('book1.csv',encoding='unicode_escape')\n",
    "read_book1.to_sql('book1', conn, if_exists='append', index = False)"
   ]
  },
  {
   "cell_type": "code",
   "execution_count": 29,
   "id": "33f91a69",
   "metadata": {},
   "outputs": [
    {
     "name": "stdout",
     "output_type": "stream",
     "text": [
      "[('Perdido Street Station', 'China Miéville', 2000), ('Small Gods', 'Terry Pratchett', 1992), ('The Spellman Files', 'Lisa Lutz', 2007), ('The Weirdstone of Brisingamen', 'Alan Garner', 1960), ('Thud!,Terry', 'Pratchett', 2005)]\n"
     ]
    }
   ],
   "source": [
    "#6. Select and print the title column from the book table in alphabetical order.\n",
    "c.execute('select * from book1 order by title asc')\n",
    "print(c.fetchall())"
   ]
  },
  {
   "cell_type": "code",
   "execution_count": 38,
   "id": "ca330085",
   "metadata": {},
   "outputs": [
    {
     "data": {
      "text/html": [
       "<div>\n",
       "<style scoped>\n",
       "    .dataframe tbody tr th:only-of-type {\n",
       "        vertical-align: middle;\n",
       "    }\n",
       "\n",
       "    .dataframe tbody tr th {\n",
       "        vertical-align: top;\n",
       "    }\n",
       "\n",
       "    .dataframe thead th {\n",
       "        text-align: right;\n",
       "    }\n",
       "</style>\n",
       "<table border=\"1\" class=\"dataframe\">\n",
       "  <thead>\n",
       "    <tr style=\"text-align: right;\">\n",
       "      <th></th>\n",
       "      <th>title</th>\n",
       "      <th>author</th>\n",
       "      <th>year</th>\n",
       "    </tr>\n",
       "  </thead>\n",
       "  <tbody>\n",
       "    <tr>\n",
       "      <th>0</th>\n",
       "      <td>The Weirdstone of Brisingamen</td>\n",
       "      <td>Alan Garner</td>\n",
       "      <td>1960</td>\n",
       "    </tr>\n",
       "    <tr>\n",
       "      <th>1</th>\n",
       "      <td>Small Gods</td>\n",
       "      <td>Terry Pratchett</td>\n",
       "      <td>1992</td>\n",
       "    </tr>\n",
       "    <tr>\n",
       "      <th>2</th>\n",
       "      <td>Perdido Street Station</td>\n",
       "      <td>China Miéville</td>\n",
       "      <td>2000</td>\n",
       "    </tr>\n",
       "    <tr>\n",
       "      <th>3</th>\n",
       "      <td>Thud!,Terry</td>\n",
       "      <td>Pratchett</td>\n",
       "      <td>2005</td>\n",
       "    </tr>\n",
       "    <tr>\n",
       "      <th>4</th>\n",
       "      <td>The Spellman Files</td>\n",
       "      <td>Lisa Lutz</td>\n",
       "      <td>2007</td>\n",
       "    </tr>\n",
       "  </tbody>\n",
       "</table>\n",
       "</div>"
      ],
      "text/plain": [
       "                           title           author  year\n",
       "0  The Weirdstone of Brisingamen      Alan Garner  1960\n",
       "1                     Small Gods  Terry Pratchett  1992\n",
       "2         Perdido Street Station   China Miéville  2000\n",
       "3                    Thud!,Terry        Pratchett  2005\n",
       "4             The Spellman Files        Lisa Lutz  2007"
      ]
     },
     "execution_count": 38,
     "metadata": {},
     "output_type": "execute_result"
    }
   ],
   "source": [
    "#7. From the book table, select and print all columns in the order of publication.\n",
    "c.execute('select title, author,year from book1 order by year')\n",
    "\n",
    "\n",
    "df = pd.DataFrame(c.fetchall(), columns=['title','author','year'])\n",
    "df"
   ]
  },
  {
   "cell_type": "code",
   "execution_count": 40,
   "id": "d4381da7",
   "metadata": {},
   "outputs": [
    {
     "name": "stdout",
     "output_type": "stream",
     "text": [
      "('The Weirdstone of Brisingamen', 'Alan Garner', 1960)\n",
      "('Perdido Street Station', 'China Miéville', 2000)\n",
      "('Thud!,Terry', 'Pratchett', 2005)\n",
      "('The Spellman Files', 'Lisa Lutz', 2007)\n",
      "('Small Gods', 'Terry Pratchett', 1992)\n"
     ]
    }
   ],
   "source": [
    "#8. Use the sqlalchemy module to connect to the sqlite3 database books.db that you just made in exercise 6.\n",
    "import sqlalchemy\n",
    "engine = sqlalchemy.create_engine(\"sqlite:///book1.db\")\n",
    "rows = engine.execute('select * from book1')\n",
    "for i in rows:\n",
    "    print(i)"
   ]
  },
  {
   "cell_type": "code",
   "execution_count": null,
   "id": "e704f52c",
   "metadata": {},
   "outputs": [],
   "source": [
    "#9. Install the Redis server and the Python redis library (pip install redis) on your computer. Create a Redis hash called test with the fields count (1) and name ('Fester Bestertester'). Print all the fields for test.\n",
    "\n",
    "!pip install Redis"
   ]
  },
  {
   "cell_type": "code",
   "execution_count": null,
   "id": "821d4e37",
   "metadata": {},
   "outputs": [],
   "source": [
    "import redis\n",
    "conn = redis.Redis()\n",
    "conn.delete('test')\n",
    "conn.hmset('test', {'count': 1, 'name': 'Fester Bestertester'})\n",
    "conn.hgetall('test')"
   ]
  },
  {
   "cell_type": "code",
   "execution_count": null,
   "id": "ac59f309",
   "metadata": {},
   "outputs": [],
   "source": [
    "#10. Increment the count field of test and print it.\n",
    "\n",
    "conn.hincrby('test','count', 3)"
   ]
  }
 ],
 "metadata": {
  "kernelspec": {
   "display_name": "Python 3",
   "language": "python",
   "name": "python3"
  },
  "language_info": {
   "codemirror_mode": {
    "name": "ipython",
    "version": 3
   },
   "file_extension": ".py",
   "mimetype": "text/x-python",
   "name": "python",
   "nbconvert_exporter": "python",
   "pygments_lexer": "ipython3",
   "version": "3.8.3"
  }
 },
 "nbformat": 4,
 "nbformat_minor": 5
}
