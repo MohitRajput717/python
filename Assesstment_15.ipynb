{
 "cells": [
  {
   "cell_type": "code",
   "execution_count": 14,
   "id": "57e24d02",
   "metadata": {},
   "outputs": [
    {
     "name": "stdout",
     "output_type": "stream",
     "text": [
      "3600\n"
     ]
    }
   ],
   "source": [
    "\"\"\"1.How many seconds are in an hour? Use the interactive interpreter as a calculator and multiply the number of seconds in a minute (60) by the number of minutes in an hour (also 60).\n",
    "sol. 60 \"\"\"\n",
    "a = 60\n",
    "b =60\n",
    "second_per_hour = a*b\n",
    "print(second_per_hour)\n",
    "\n",
    "\n"
   ]
  },
  {
   "cell_type": "code",
   "execution_count": 16,
   "id": "77422a11",
   "metadata": {},
   "outputs": [
    {
     "name": "stdout",
     "output_type": "stream",
     "text": [
      "second_per_hour\n"
     ]
    }
   ],
   "source": [
    "\"\"\"2. Assign the result from the previous task (seconds in an hour) to a variable called seconds_per_hour.\"\"\"\n",
    "second_per_hour = \"seconds_per_hour\"\n",
    "print(\"second_per_hour\")\n"
   ]
  },
  {
   "cell_type": "code",
   "execution_count": 17,
   "id": "61829354",
   "metadata": {},
   "outputs": [
    {
     "name": "stdout",
     "output_type": "stream",
     "text": [
      "86400\n"
     ]
    }
   ],
   "source": [
    "\"\"\"3.How many seconds do you think there are in a day? Make use of the variables seconds per hour and minutes per hour\"\"\"\n",
    "second_per_hour = 3600\n",
    "Hours_in_day = 24\n",
    "second_in_day = second_per_hour * Hours_in_day\n",
    "print(second_in_day)"
   ]
  },
  {
   "cell_type": "code",
   "execution_count": 19,
   "id": "6546c62b",
   "metadata": {},
   "outputs": [
    {
     "name": "stdout",
     "output_type": "stream",
     "text": [
      "Second_per_day\n"
     ]
    }
   ],
   "source": [
    "\"\"\"4. Calculate seconds per day again, but this time save the result in a variable called seconds_per_day\"\"\"\n",
    "Second_per_day= \"Second_in_day\"\n",
    "print(\"Second_per_day\")"
   ]
  },
  {
   "cell_type": "code",
   "execution_count": 20,
   "id": "4262b824",
   "metadata": {},
   "outputs": [
    {
     "name": "stdout",
     "output_type": "stream",
     "text": [
      "24.0\n"
     ]
    }
   ],
   "source": [
    "\"\"\"5. Divide seconds_per_day by seconds_per_hour. Use floating-point (/) division.\"\"\"\n",
    "Second_per_day = 86400\n",
    "second_per_hour =3600\n",
    "print(Second_per_day/second_per_hour)"
   ]
  },
  {
   "cell_type": "code",
   "execution_count": 21,
   "id": "25d59fa2",
   "metadata": {},
   "outputs": [
    {
     "name": "stdout",
     "output_type": "stream",
     "text": [
      "24\n"
     ]
    }
   ],
   "source": [
    "\"\"\"6. Divide seconds_per_day by seconds_per_hour, using integer (//) division. Did this number agree with the floating-point value from the previous question, aside from the final .0?\"\"\"\n",
    "Second_per_day = 86400\n",
    "second_per_hour =3600\n",
    "print(Second_per_day//second_per_hour)\n",
    "\n",
    "\n"
   ]
  },
  {
   "cell_type": "code",
   "execution_count": 46,
   "id": "434280b8",
   "metadata": {},
   "outputs": [],
   "source": [
    "\"\"\"7. Write a generator, genPrimes, that returns the sequence of prime numbers on successive calls to its next() method: 2, 3, 5, 7, 11\"\"\"\n",
    "\n",
    "a = (2,5,7,11)\n",
    "\n",
    "\n"
   ]
  },
  {
   "cell_type": "code",
   "execution_count": 47,
   "id": "eeab5255",
   "metadata": {},
   "outputs": [
    {
     "ename": "TypeError",
     "evalue": "'list_iterator' object is not callable",
     "output_type": "error",
     "traceback": [
      "\u001b[1;31m---------------------------------------------------------------------------\u001b[0m",
      "\u001b[1;31mTypeError\u001b[0m                                 Traceback (most recent call last)",
      "\u001b[1;32m<ipython-input-47-e9400ee6074d>\u001b[0m in \u001b[0;36m<module>\u001b[1;34m\u001b[0m\n\u001b[1;32m----> 1\u001b[1;33m \u001b[0ma\u001b[0m \u001b[1;33m=\u001b[0m \u001b[0miter\u001b[0m\u001b[1;33m(\u001b[0m\u001b[0ma\u001b[0m\u001b[1;33m)\u001b[0m\u001b[1;33m\u001b[0m\u001b[1;33m\u001b[0m\u001b[0m\n\u001b[0m",
      "\u001b[1;31mTypeError\u001b[0m: 'list_iterator' object is not callable"
     ]
    }
   ],
   "source": [
    "a = iter(a)"
   ]
  },
  {
   "cell_type": "code",
   "execution_count": null,
   "id": "48321cad",
   "metadata": {},
   "outputs": [],
   "source": []
  }
 ],
 "metadata": {
  "kernelspec": {
   "display_name": "Python 3",
   "language": "python",
   "name": "python3"
  },
  "language_info": {
   "codemirror_mode": {
    "name": "ipython",
    "version": 3
   },
   "file_extension": ".py",
   "mimetype": "text/x-python",
   "name": "python",
   "nbconvert_exporter": "python",
   "pygments_lexer": "ipython3",
   "version": "3.8.3"
  }
 },
 "nbformat": 4,
 "nbformat_minor": 5
}
