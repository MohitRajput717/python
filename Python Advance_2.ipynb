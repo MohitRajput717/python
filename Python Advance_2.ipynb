{
 "cells": [
  {
   "cell_type": "markdown",
   "id": "507aa4df",
   "metadata": {},
   "source": [
    "Q1. What is the relationship between classes and modules?\n",
    "Ans. Classes may generate instances (objects), and have per-instance state (instance variables). Modules may be mixed in to classes and other modules. The mixed in module's constants and methods blend into that class's own, augmenting the class's functionality. Classes, however, cannot be mixed in to anything.\n",
    "\n",
    "\n",
    "\n",
    "Q2. How do you make instances and classes?\n",
    "Ans. To create instances of a class, you call the class using class name and pass in whatever arguments its __init__ method accepts.\n",
    "\n",
    "\n",
    "\n",
    "Q3. Where and how should be class attributes created?\n",
    "Ans. A class attribute is shared by all instances of the class. To define a class attribute, you place it outside of the __init__() method.\n",
    "Use class_name. ...\n",
    "Use class attributes for storing class contants, track data across all instances, and setting default values for all instances of the class.\n",
    "\n",
    "\n",
    "\n",
    "\n",
    "Q4. Where and how are instance attributes created?\n",
    "Ans. Instance attributes are attributes or properties attached to an instance of a class. Instance attributes are defined in the constructor. Defined directly inside a class. Defined inside a constructor using the self parameter.\n",
    "\n",
    "\n",
    "\n",
    "Q5. What does the term \"self\" in a Python class mean?\n",
    "Ans. The self parameter is a reference to the current instance of the class, and is used to access variables that belongs to the class.\n",
    "\n",
    "\n",
    "\n",
    "Q6. How does a Python class handle operator overloading?\n",
    "Ans. The operator overloading in Python means provide extended meaning beyond their predefined operational meaning. Such as, we use the \"+\" operator for adding two integers as well as joining two strings or merging two lists. We can achieve this as the \"+\" operator is overloaded by the \"int\" class and \"str\" class\n",
    "\n",
    "\n",
    "\n",
    "Q7. When do you consider allowing operator overloading of your classes?\n",
    "Ans. For example, the + operator will perform arithmetic addition on two numbers, merge two lists, or concatenate two strings. This feature in Python that allows the same operator to have different meaning according to the context is called operator overloading.\n",
    "\n",
    "\n",
    "\n",
    "Q8. What is the most popular form of operator overloading?\n",
    "Ans. Most populur operators are:-\n",
    "+ (Addition)\n",
    "– (Subtraction)\n",
    "* (Multiplication)\n",
    "/ (Division)\n",
    "** (Exponentiation)\n",
    "// (Floor division)\n",
    "% (Modulus)\n",
    "\n",
    "\n",
    "\n",
    "Q9. What are the two most important concepts to grasp in order to comprehend Python OOP code?\n",
    "Ans. Both inheritance and polymorphism are fundamental concepts of object oriented programming. These concepts help us to create code that can be extended and easily maintainable\n"
   ]
  }
 ],
 "metadata": {
  "kernelspec": {
   "display_name": "Python 3",
   "language": "python",
   "name": "python3"
  },
  "language_info": {
   "codemirror_mode": {
    "name": "ipython",
    "version": 3
   },
   "file_extension": ".py",
   "mimetype": "text/x-python",
   "name": "python",
   "nbconvert_exporter": "python",
   "pygments_lexer": "ipython3",
   "version": "3.8.3"
  }
 },
 "nbformat": 4,
 "nbformat_minor": 5
}
