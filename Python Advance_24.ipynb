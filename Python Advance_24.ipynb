{
 "cells": [
  {
   "cell_type": "markdown",
   "id": "16243df3",
   "metadata": {},
   "source": [
    "Q1. Is it permissible to use several import statements to import the same module? What would the goal be? Can you think of a situation where it would be beneficial?\n",
    "\n",
    "Answer: If a module has already been imported, it's not loaded again. we will simply get a reference to the module that has already been imported."
   ]
  },
  {
   "cell_type": "markdown",
   "id": "f7517988",
   "metadata": {},
   "source": [
    "Q2. What are some of a module's characteristics? (Name at least one.)\n",
    "\n",
    "Ans: The following are some of a module's characteristics:\n",
    "\n",
    "__name__ : It returns the name of the module\n",
    "\n",
    "__doc__ : It denotes the documentation string line written in a module code.\n",
    "\n",
    "__file__ : It holds the name and path of the module file from which it is loaded\n",
    "\n",
    "__dict__ : It return a dictionary object of module attributes, functions and other definitions and their respective values"
   ]
  },
  {
   "cell_type": "markdown",
   "id": "a4084998",
   "metadata": {},
   "source": [
    "Q3. Circular importing, such as when two modules import each other, can lead to dependencies and bugs that aren't visible. How can you go about creating a program that avoids mutual importing?\n",
    "\n",
    "Answer: Circular importing is a form of circular dependency that is created with the import statement in Python"
   ]
  },
  {
   "cell_type": "markdown",
   "id": "4529725f",
   "metadata": {},
   "source": [
    "Q4. Why is __all__ in Python ?\n",
    "\n",
    "Ans: It provides list of all modules present in a library."
   ]
  },
  {
   "cell_type": "markdown",
   "id": "abf2d667",
   "metadata": {},
   "source": [
    "Q5. In what situation is it useful to refer to the _ name attribute or the string ' main _'?\n",
    "\n",
    "Answer: name is a built-in variable which evaluates to the name of the current module. Thus it can be used to check whether the current script is being run on its own or being imported somewhere else by combining it with if statement\n",
    "\n",
    "Q6. What are some of the benefits of attaching a program counter to the RPN interpreter application, which interprets an RPN script line by line?\n",
    "\n",
    "Answer: An advantage of reverse Polish notation is that it removes the need for parentheses that are required by infix notation. While 3 − 4 × 5 can also be written 3 − (4 × 5), that means something quite different from (3 − 4) × 5. A program counter is also known as an instruction counter, instruction pointer, instruction address register or sequence control register. It is a digital counter needed for faster execution of tasks as well as for tracking the current execution point"
   ]
  },
  {
   "cell_type": "code",
   "execution_count": 24,
   "id": "b0394238",
   "metadata": {},
   "outputs": [
    {
     "name": "stdout",
     "output_type": "stream",
     "text": [
      "1.2\n",
      "1.2\n"
     ]
    }
   ],
   "source": [
    "#Q7. What are the minimum expressions or statements (or both) that you'd need to render a basic programming language like RPN primitive but complete— that is, capable of carrying out any computerised task theoretically possible?\n",
    "\n",
    "# Reverse Polish Notation (RPN) Evaluator in Python\n",
    "import logging\n",
    "import operator as op\n",
    "import sys\n",
    "from typing import Any, List, Union\n",
    "\n",
    "logging.getLogger(__name__).setLevel(\"INFO\")\n",
    "supported_operators = {\"+\": op.add, \"-\": op.sub, \"*\": op.mul, \"/\": op.truediv}\n",
    "Number = Union[int, float]\n",
    "\n",
    "def tokenize(expr: str) -> List[str]:\n",
    "    \"\"\"Breaks expression `expr` into a list of tokens\"\"\"\n",
    "    return expr.split(\" \")\n",
    "\n",
    "def mpop(stack: List[Any], n: int = 1) -> List[Any]:\n",
    "    \"\"\"Pops and returns `n` items from a stack. Mutates `stack`\"\"\"\n",
    "    return [stack.pop() for _ in range(n)]\n",
    "\n",
    "def to_num(x: Any) -> Number:\n",
    "    \"\"\"Converts a value to a its appropriate numeric type\"\"\"\n",
    "    n = float(x)\n",
    "    return int(n) if n.is_integer() else n\n",
    "\n",
    "def consume_token(token: str, stack: List[Number]) -> List[Number]:\n",
    "    \"\"\"Consumes a token given the current stack and returns the updated stack\"\"\"\n",
    "    if token in supported_operators:\n",
    "        try:\n",
    "            num1, num2 = mpop(stack, 2)\n",
    "        except IndexError:\n",
    "            logging.error(\"SyntaxError: Malformed expression\")\n",
    "            sys.exit(1)\n",
    "\n",
    "        result = supported_operators[token](num2, num1)\n",
    "        return [*stack, result]\n",
    "    else:\n",
    "        try:\n",
    "            return [*stack, to_num(token)]\n",
    "        except ValueError:\n",
    "            logging.error(\"SyntaxError: Unsupported token '%s'\", token)\n",
    "            sys.exit(1)\n",
    "\n",
    "def get_result_from_stack(stack: List[Number]) -> Number:\n",
    "    \"\"\"Gets the result from `stack`\"\"\"\n",
    "    result, *rest = mpop(stack, 1)\n",
    "    if rest:\n",
    "        logging.error(\"SyntaxError: Found extra tokens\")\n",
    "        sys.exit(1)\n",
    "    return result\n",
    "\n",
    "def evaluate_v1(tokens: List[str]) -> Number:\n",
    "    \"\"\"Evaluates a tokenized expression and returns the result\"\"\"\n",
    "    stack: List = []\n",
    "\n",
    "    for token in tokens:\n",
    "        stack = consume_token(token, stack)\n",
    "\n",
    "    return get_result_from_stack(stack)\n",
    "\n",
    "def evaluate_v2(tokens: List[str]) -> Number:\n",
    "    \"\"\"Evaluates a tokenized expression and returns the result\"\"\"\n",
    "\n",
    "    def _evaluate(tokens: List[str], stack: List) -> Number:\n",
    "        if not tokens:\n",
    "            return get_result_from_stack(stack)\n",
    "\n",
    "        stack = consume_token(tokens[0], stack)\n",
    "\n",
    "        return _evaluate(tokens[1:], stack)\n",
    "\n",
    "    return _evaluate(tokens, [])\n",
    "\n",
    "if __name__ == \"__main__\":\n",
    "    \n",
    "    print(evaluate_v2(tokenize(input())))\n",
    "\n",
    "\n"
   ]
  },
  {
   "cell_type": "code",
   "execution_count": null,
   "id": "cd6cb8dc",
   "metadata": {},
   "outputs": [],
   "source": []
  }
 ],
 "metadata": {
  "kernelspec": {
   "display_name": "Python 3",
   "language": "python",
   "name": "python3"
  },
  "language_info": {
   "codemirror_mode": {
    "name": "ipython",
    "version": 3
   },
   "file_extension": ".py",
   "mimetype": "text/x-python",
   "name": "python",
   "nbconvert_exporter": "python",
   "pygments_lexer": "ipython3",
   "version": "3.8.3"
  }
 },
 "nbformat": 4,
 "nbformat_minor": 5
}
