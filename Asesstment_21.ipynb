{
 "cells": [
  {
   "cell_type": "code",
   "execution_count": 4,
   "id": "e8d7b34c",
   "metadata": {},
   "outputs": [
    {
     "data": {
      "text/plain": [
       "'2022-04-13'"
      ]
     },
     "execution_count": 4,
     "metadata": {},
     "output_type": "execute_result"
    }
   ],
   "source": [
    "#1. Add the current date to the text file today.txt as a string.\n",
    "import datetime \n",
    "from datetime import date\n",
    "now = date.today()\n",
    "curr_date = now.isoformat()\n",
    "curr_date\n"
   ]
  },
  {
   "cell_type": "code",
   "execution_count": null,
   "id": "029e2fff",
   "metadata": {},
   "outputs": [],
   "source": [
    "\n",
    "with open('today.txt','w') as file:\n",
    "    file.write(curr_date)"
   ]
  },
  {
   "cell_type": "code",
   "execution_count": 7,
   "id": "3d90cd10",
   "metadata": {},
   "outputs": [
    {
     "data": {
      "text/plain": [
       "'2022-04-13'"
      ]
     },
     "execution_count": 7,
     "metadata": {},
     "output_type": "execute_result"
    }
   ],
   "source": [
    "#2. Read the text file today.txt into the string today_string\n",
    "with open('today.txt','r') as file:\n",
    "    today_string = file.read()\n",
    "today_string"
   ]
  },
  {
   "cell_type": "code",
   "execution_count": 8,
   "id": "91cddf14",
   "metadata": {},
   "outputs": [
    {
     "data": {
      "text/plain": [
       "datetime.datetime(2022, 4, 13, 0, 0)"
      ]
     },
     "execution_count": 8,
     "metadata": {},
     "output_type": "execute_result"
    }
   ],
   "source": [
    "#3. Parse the date from today_string.\n",
    "from datetime import datetime\n",
    "format = '%Y-%m-%d'\n",
    "datetime.strptime(today_string,format)"
   ]
  },
  {
   "cell_type": "code",
   "execution_count": 10,
   "id": "eb8dc68e",
   "metadata": {},
   "outputs": [
    {
     "data": {
      "text/plain": [
       "['.android',\n",
       " '.conda',\n",
       " '.condarc',\n",
       " '.cufflinks',\n",
       " '.gitconfig',\n",
       " '.ipynb_checkpoints',\n",
       " '.ipython',\n",
       " '.jupyter',\n",
       " '.matplotlib',\n",
       " '.openshot_qt',\n",
       " '.python_history',\n",
       " '12 march.ipynb',\n",
       " '13 march.ipynb',\n",
       " '3D Objects',\n",
       " 'anaconda3',\n",
       " 'AppData',\n",
       " 'Application Data',\n",
       " 'Asessment_19.ipynb',\n",
       " 'Asesstment_20.ipynb',\n",
       " 'Asesstment_21.ipynb',\n",
       " 'Assestment_15.ipynb',\n",
       " 'Assigment_16.ipynb',\n",
       " 'Assignment_17.ipynb',\n",
       " 'Assignment_18.ipynb',\n",
       " 'book.csv',\n",
       " 'book1.csv',\n",
       " 'book1.db',\n",
       " 'books.db',\n",
       " 'connected mongodb to python.ipynb',\n",
       " 'Contacts',\n",
       " 'Cookies',\n",
       " 'Data Analysis (Mysql connectivity with Python).ipynb',\n",
       " 'Desktop',\n",
       " 'Documents',\n",
       " 'Downloads',\n",
       " 'Favorites',\n",
       " 'files',\n",
       " 'files.xlsx',\n",
       " 'files2.xlsx',\n",
       " 'ineuron.db',\n",
       " 'jobdb.db',\n",
       " 'johan.db',\n",
       " 'Links',\n",
       " 'Local Settings',\n",
       " 'logging',\n",
       " 'lolam.db',\n",
       " 'matplotlib data details.ipynb',\n",
       " 'Microsoft',\n",
       " 'MicrosoftEdgeBackups',\n",
       " 'mohit',\n",
       " 'mohit.db',\n",
       " 'Music',\n",
       " 'My Documents',\n",
       " 'mysql connecter with python.ipynb',\n",
       " 'NetHood',\n",
       " 'NTUSER.DAT',\n",
       " 'ntuser.dat.LOG1',\n",
       " 'ntuser.dat.LOG2',\n",
       " 'NTUSER.DAT{400506e4-49ed-11eb-8194-ca2f809f3623}.TM.blf',\n",
       " 'NTUSER.DAT{400506e4-49ed-11eb-8194-ca2f809f3623}.TMContainer00000000000000000001.regtrans-ms',\n",
       " 'NTUSER.DAT{400506e4-49ed-11eb-8194-ca2f809f3623}.TMContainer00000000000000000002.regtrans-ms',\n",
       " 'NTUSER.DAT{500b0888-1f99-11ec-81ba-8091338176b6}.TM.blf',\n",
       " 'NTUSER.DAT{500b0888-1f99-11ec-81ba-8091338176b6}.TMContainer00000000000000000001.regtrans-ms',\n",
       " 'NTUSER.DAT{500b0888-1f99-11ec-81ba-8091338176b6}.TMContainer00000000000000000002.regtrans-ms',\n",
       " 'ntuser.ini',\n",
       " 'OneDrive',\n",
       " 'persion.db',\n",
       " 'person.db',\n",
       " 'person1.db',\n",
       " 'Pictures',\n",
       " 'Postman',\n",
       " 'PrintHood',\n",
       " 'PycharmProjects',\n",
       " 'Recent',\n",
       " 'Saved Games',\n",
       " 'seaborn-data',\n",
       " 'Searches',\n",
       " 'SendTo',\n",
       " 'smr.txt',\n",
       " 'sqllite connection with python.ipynb',\n",
       " 'Start Menu',\n",
       " 'Templates',\n",
       " 'test.txt',\n",
       " 'test1.txt',\n",
       " 'today.txt',\n",
       " 'Untitled Folder',\n",
       " 'Untitled.ipynb',\n",
       " 'Untitled1.ipynb',\n",
       " 'Untitled6.ipynb',\n",
       " 'Videos',\n",
       " 'zoo.py',\n",
       " '__pycache__']"
      ]
     },
     "execution_count": 10,
     "metadata": {},
     "output_type": "execute_result"
    }
   ],
   "source": [
    "#4. List the files in your current directory\n",
    "import os\n",
    "os.listdir()"
   ]
  },
  {
   "cell_type": "code",
   "execution_count": 21,
   "id": "c3ec53de",
   "metadata": {},
   "outputs": [
    {
     "data": {
      "text/plain": [
       "['.android',\n",
       " '.conda',\n",
       " '.condarc',\n",
       " '.cufflinks',\n",
       " '.gitconfig',\n",
       " '.ipynb_checkpoints',\n",
       " '.ipython',\n",
       " '.jupyter',\n",
       " '.matplotlib',\n",
       " '.openshot_qt',\n",
       " '.python_history',\n",
       " '12 march.ipynb',\n",
       " '13 march.ipynb',\n",
       " '3D Objects',\n",
       " 'anaconda3',\n",
       " 'AppData',\n",
       " 'Application Data',\n",
       " 'Asessment_19.ipynb',\n",
       " 'Asesstment_20.ipynb',\n",
       " 'Asesstment_21.ipynb',\n",
       " 'Asesstment_22.ipynb',\n",
       " 'Assestment_15.ipynb',\n",
       " 'Assigment_16.ipynb',\n",
       " 'Assignment_17.ipynb',\n",
       " 'Assignment_18.ipynb',\n",
       " 'book.csv',\n",
       " 'book1.csv',\n",
       " 'book1.db',\n",
       " 'books.db',\n",
       " 'connected mongodb to python.ipynb',\n",
       " 'Contacts',\n",
       " 'Cookies',\n",
       " 'Data Analysis (Mysql connectivity with Python).ipynb',\n",
       " 'Desktop',\n",
       " 'Documents',\n",
       " 'Downloads',\n",
       " 'Favorites',\n",
       " 'files',\n",
       " 'files.xlsx',\n",
       " 'files2.xlsx',\n",
       " 'ineuron.db',\n",
       " 'jobdb.db',\n",
       " 'johan.db',\n",
       " 'Links',\n",
       " 'Local Settings',\n",
       " 'logging',\n",
       " 'lolam.db',\n",
       " 'matplotlib data details.ipynb',\n",
       " 'Microsoft',\n",
       " 'MicrosoftEdgeBackups',\n",
       " 'mohit',\n",
       " 'mohit.db',\n",
       " 'Music',\n",
       " 'My Documents',\n",
       " 'mysql connecter with python.ipynb',\n",
       " 'NetHood',\n",
       " 'NTUSER.DAT',\n",
       " 'ntuser.dat.LOG1',\n",
       " 'ntuser.dat.LOG2',\n",
       " 'NTUSER.DAT{400506e4-49ed-11eb-8194-ca2f809f3623}.TM.blf',\n",
       " 'NTUSER.DAT{400506e4-49ed-11eb-8194-ca2f809f3623}.TMContainer00000000000000000001.regtrans-ms',\n",
       " 'NTUSER.DAT{400506e4-49ed-11eb-8194-ca2f809f3623}.TMContainer00000000000000000002.regtrans-ms',\n",
       " 'NTUSER.DAT{500b0888-1f99-11ec-81ba-8091338176b6}.TM.blf',\n",
       " 'NTUSER.DAT{500b0888-1f99-11ec-81ba-8091338176b6}.TMContainer00000000000000000001.regtrans-ms',\n",
       " 'NTUSER.DAT{500b0888-1f99-11ec-81ba-8091338176b6}.TMContainer00000000000000000002.regtrans-ms',\n",
       " 'ntuser.ini',\n",
       " 'OneDrive',\n",
       " 'persion.db',\n",
       " 'person.db',\n",
       " 'person1.db',\n",
       " 'Pictures',\n",
       " 'Postman',\n",
       " 'PrintHood',\n",
       " 'PycharmProjects',\n",
       " 'Recent',\n",
       " 'Saved Games',\n",
       " 'seaborn-data',\n",
       " 'Searches',\n",
       " 'SendTo',\n",
       " 'smr.txt',\n",
       " 'sqllite connection with python.ipynb',\n",
       " 'Start Menu',\n",
       " 'Templates',\n",
       " 'test.txt',\n",
       " 'test1.txt',\n",
       " 'today.txt',\n",
       " 'Untitled Folder',\n",
       " 'Untitled.ipynb',\n",
       " 'Untitled1.ipynb',\n",
       " 'Untitled6.ipynb',\n",
       " 'Videos',\n",
       " 'zoo.py',\n",
       " '__pycache__']"
      ]
     },
     "execution_count": 21,
     "metadata": {},
     "output_type": "execute_result"
    }
   ],
   "source": [
    "#5. Create a list of all of the files in your parent directory (minimum five files should be available).\n",
    "from pathlib import Path\n",
    "Path('C:\\Program Files').parent\n",
    "os.listdir()\n"
   ]
  },
  {
   "cell_type": "code",
   "execution_count": 11,
   "id": "1c325b7f",
   "metadata": {},
   "outputs": [],
   "source": [
    "#6. Use multiprocessing to create three separate processes. Make each one wait a random number of seconds between one and five, print the current time, and then exit.\n",
    "import multiprocessing\n",
    "\n",
    "def printsec(seconds):\n",
    "    from datetime import datetime\n",
    "    from time import sleep\n",
    "    sleep(seconds)\n",
    "    print('wait', seconds, 'seconds, time is', datetime.utcnow())\n",
    "    \n",
    "if __name__ == '__main__':\n",
    "    import random    \n",
    "    for n in range(3):\n",
    "        seconds = random.random()\n",
    "        proc = multiprocessing.Process(target=printsec, args=(seconds,))\n",
    "        proc.start()"
   ]
  },
  {
   "cell_type": "code",
   "execution_count": 14,
   "id": "218c9a14",
   "metadata": {},
   "outputs": [
    {
     "name": "stderr",
     "output_type": "stream",
     "text": [
      "python: can't open file 'abc.py': [Errno 2] No such file or directory\n"
     ]
    }
   ],
   "source": [
    "!python abc.py"
   ]
  },
  {
   "cell_type": "code",
   "execution_count": 17,
   "id": "c6a53614",
   "metadata": {},
   "outputs": [
    {
     "data": {
      "text/plain": [
       "datetime.datetime(1991, 1, 3, 2, 14)"
      ]
     },
     "execution_count": 17,
     "metadata": {},
     "output_type": "execute_result"
    }
   ],
   "source": [
    "#7. Create a date object of your day of birth.\n",
    "my_dob = datetime(1991,1,3,2,14)\n",
    "my_dob"
   ]
  },
  {
   "cell_type": "code",
   "execution_count": 18,
   "id": "03f0cac3",
   "metadata": {},
   "outputs": [
    {
     "data": {
      "text/plain": [
       "3"
      ]
     },
     "execution_count": 18,
     "metadata": {},
     "output_type": "execute_result"
    }
   ],
   "source": [
    "#8. What day of the week was your day of birth?\n",
    "my_dob.weekday()\n"
   ]
  },
  {
   "cell_type": "code",
   "execution_count": 19,
   "id": "2b23fa1d",
   "metadata": {},
   "outputs": [
    {
     "data": {
      "text/plain": [
       "datetime.datetime(2018, 5, 21, 2, 14)"
      ]
     },
     "execution_count": 19,
     "metadata": {},
     "output_type": "execute_result"
    }
   ],
   "source": [
    "#9. When will you be (or when were you) 10,000 days old?\n",
    "from datetime import timedelta\n",
    "day10000 = my_dob+timedelta(days = 10000)\n",
    "day10000"
   ]
  },
  {
   "cell_type": "code",
   "execution_count": null,
   "id": "8ce7f883",
   "metadata": {},
   "outputs": [],
   "source": []
  },
  {
   "cell_type": "code",
   "execution_count": null,
   "id": "d4d2e9e1",
   "metadata": {},
   "outputs": [],
   "source": []
  },
  {
   "cell_type": "code",
   "execution_count": null,
   "id": "3389dad2",
   "metadata": {},
   "outputs": [],
   "source": []
  }
 ],
 "metadata": {
  "kernelspec": {
   "display_name": "Python 3",
   "language": "python",
   "name": "python3"
  },
  "language_info": {
   "codemirror_mode": {
    "name": "ipython",
    "version": 3
   },
   "file_extension": ".py",
   "mimetype": "text/x-python",
   "name": "python",
   "nbconvert_exporter": "python",
   "pygments_lexer": "ipython3",
   "version": "3.8.3"
  }
 },
 "nbformat": 4,
 "nbformat_minor": 5
}
