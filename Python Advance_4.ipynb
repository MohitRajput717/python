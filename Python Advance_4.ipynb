{
 "cells": [
  {
   "cell_type": "code",
   "execution_count": 5,
   "id": "1da6511b",
   "metadata": {},
   "outputs": [
    {
     "name": "stdout",
     "output_type": "stream",
     "text": [
      "<__main__.MyClass object at 0x000001D46B6CB580>\n",
      "<__main__.MyClass object at 0x000001D46B6CB580>\n",
      "<__main__.MyClass object at 0x000001D46B6CB580>\n"
     ]
    }
   ],
   "source": [
    "#Q1. Which two operator overloading methods can you use in your classes to support iteration?\n",
    "\n",
    "#Ans. __init__ ans __str__.\n",
    "\n",
    "\n",
    "class MyClass:\n",
    "    x = 0\n",
    "    y = \"\"\n",
    "\n",
    "    def __init__(self, anyNumber, anyString):\n",
    "        self.x = anyNumber\n",
    "        self.y = anyString\n",
    "\n",
    "myObject = MyClass(12345, \"Hello\")\n",
    "\n",
    "print(myObject.__str__())\n",
    "print(myObject.__repr__())\n",
    "print(myObject)\n"
   ]
  },
  {
   "cell_type": "code",
   "execution_count": 6,
   "id": "b26c20ca",
   "metadata": {},
   "outputs": [],
   "source": [
    "#Q2. In what contexts do the two operator overloading methods manage printing?\n",
    "#Ans. They can mamnage priting or outputting values wuth return statements.\n",
    "\n",
    "#In cases where the str() method is not defined, Python uses the repr() method to print the object, as well as to represent the object when str() is called on it.\n",
    "\n"
   ]
  },
  {
   "cell_type": "code",
   "execution_count": 9,
   "id": "a2714154",
   "metadata": {},
   "outputs": [
    {
     "name": "stdout",
     "output_type": "stream",
     "text": [
      "1\n",
      "(1, 2)\n",
      "(1, 2, 3)\n"
     ]
    }
   ],
   "source": [
    "#Q3. In a class, how do you intercept slice operations?\n",
    "\n",
    "Name = \"mohit singh\"\n",
    "Name[0:6]\n",
    "\n",
    "\n",
    "class Demo:\n",
    "\tdef __getitem__(self, key):\n",
    "\t\t# print a[1], a[1, 2],\n",
    "\t\t# a[1, 2, 3]\n",
    "\t\tprint(key)\n",
    "\t\t#return key\n",
    "\n",
    "a = Demo()\n",
    "a[1]\n",
    "a[1, 2]\n",
    "a[1, 2, 3]\n"
   ]
  },
  {
   "cell_type": "code",
   "execution_count": 10,
   "id": "d5ad2e1b",
   "metadata": {},
   "outputs": [],
   "source": [
    "#Q4. In a class, how do you capture in-place addition?\n",
    "\n",
    "#Python provides the operator x += y to add two objects in-place by calculating the sum x + y and assigning the result to the first operands variable name x. We can set up the in-place addition behavior for our own class by overriding the magic “dunder” method iadd(self, other) in our class definition."
   ]
  },
  {
   "cell_type": "code",
   "execution_count": null,
   "id": "f84f1a6b",
   "metadata": {},
   "outputs": [],
   "source": [
    "#Q5. When is it appropriate to use operator overloading?\n",
    "#Ans.  Only built-in operators can be overloaded. New operators can not be created.\n",
    "2) Arity of the operators cannot be changed.\n",
    "3) Precedence and associativity of the operators cannot be changed.\n",
    "4) Overloaded operators cannot have default arguments except the function call operator () which can have default arguments."
   ]
  }
 ],
 "metadata": {
  "kernelspec": {
   "display_name": "Python 3",
   "language": "python",
   "name": "python3"
  },
  "language_info": {
   "codemirror_mode": {
    "name": "ipython",
    "version": 3
   },
   "file_extension": ".py",
   "mimetype": "text/x-python",
   "name": "python",
   "nbconvert_exporter": "python",
   "pygments_lexer": "ipython3",
   "version": "3.8.3"
  }
 },
 "nbformat": 4,
 "nbformat_minor": 5
}
