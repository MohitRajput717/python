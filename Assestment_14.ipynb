{
 "cells": [
  {
   "cell_type": "code",
   "execution_count": null,
   "id": "18f04c88",
   "metadata": {},
   "outputs": [],
   "source": [
    "1. What does RGBA stand for?\n",
    "Ans. RGBA tuples are 4-tuples where the respective tuple components represent red, green, blue, and alpha (opacity) values for a color. Each value is a floating point number between 0.0 and 1.0. For example, the tuple (1, 0, 0, 1) represents an opaque red, while (0, 1, 0, 0.5) represents a half transparent green\n",
    "\n",
    "2. From the Pillow module, how do you get the RGBA value of any images?\n",
    "Ans firstly install pillow module through pip then import image from pil and open any image get value rgba.\n",
    "\n",
    "3. What is a box tuple, and how does it work?\n",
    "Ans. Many of Pillow's functions and methods take a box tuple argument. This means Pillow is expecting a tuple of four integer coordinates that represent a rectangular region in an image.\n",
    "    Tuples are sequences, just like lists. The differences between tuples and lists are, the tuples cannot be changed unlike lists and tuples use parentheses, whereas lists use square brackets. tup1 = (50,);\n",
    "\n",
    "    4. Use your image and load in notebook then, How can you find out the width and height of an Image object?\n",
    "    Ans. #Import library\n",
    "from IPython.display import Image\n",
    "# Load image from local storage\n",
    "Image(filename = \"img1.png\", width = 600, height = 300)\n",
    "\n",
    "5. What method would you call to get Image object for a 100×100 image, excluding the lower-left quarter of it?\n",
    "Ans. firstly import pil then reduce size of import help of numpy.\n",
    "\n",
    "6. After making changes to an Image object, how could you save it as an image file?\n",
    "Ans. use the PIL. save() function\n",
    "\n",
    "7. What module contains Pillow’s shape-drawing code?\n",
    "Ans. ImageDraw module\n",
    "\n",
    "8. Image objects do not have drawing methods. What kind of object does? How do you get this kind of object?\n",
    "Ans The 'ImageDraw' module which is provide method of drawing image and pil get some valuable imput\n",
    "\n"
   ]
  }
 ],
 "metadata": {
  "kernelspec": {
   "display_name": "Python 3",
   "language": "python",
   "name": "python3"
  },
  "language_info": {
   "codemirror_mode": {
    "name": "ipython",
    "version": 3
   },
   "file_extension": ".py",
   "mimetype": "text/x-python",
   "name": "python",
   "nbconvert_exporter": "python",
   "pygments_lexer": "ipython3",
   "version": "3.8.3"
  }
 },
 "nbformat": 4,
 "nbformat_minor": 5
}
