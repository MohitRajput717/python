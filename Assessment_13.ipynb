{
 "cells": [
  {
   "cell_type": "code",
   "execution_count": null,
   "id": "2e0bad33",
   "metadata": {},
   "outputs": [],
   "source": [
    "1. What advantages do Excel spreadsheets have over CSV spreadsheets?\n",
    "Ans. Excel is more superior when compared with the CSV file format; thus, CSV consumes less amount of file size when the user is importing data; it is a much faster format compared to excel. CSV does not manipulate data and stores it as-is. Excel also allows the user the add-in feature.\n",
    "\n",
    "2.What do you pass to csv.reader() and csv.writer() to create reader and writer objects?\n",
    "Ans. csv.reader(filename) and csv.writer(filename,\"w\")\n",
    "\n",
    "3. What modes do File objects for reader and writer objects need to be opened in?\n",
    "Ans. n order to open a file for reading or writing purposes, we must use the built-in open() function. The open() function uses two arguments.\n",
    "\n",
    "4. What method takes a list argument and writes it to a CSV file?\n",
    "Ans. he csv. writer writerow method takes an iterable as an argument. Your result set has to be a list (rows) of lists (columns). Write the row parameter to the writer's file object, formatted according to the current dialect\n",
    "\n",
    "5. What do the keyword arguments delimiter and line terminator do?\n",
    "Ans.You can change characters to different values by using the delimiter and lineterminator keyword arguments with csv. writer() .\n",
    "\n",
    "6. What function takes a string of JSON data and returns a Python data structure?\n",
    "Ans. loads() method\n",
    "\n",
    "7. What function takes a Python data structure and returns a string of JSON data\n",
    "Ans, Python supports JSON through a built-in package called json and this module can be used to convert a python dictionary to JSON object.\n"
   ]
  }
 ],
 "metadata": {
  "kernelspec": {
   "display_name": "Python 3",
   "language": "python",
   "name": "python3"
  },
  "language_info": {
   "codemirror_mode": {
    "name": "ipython",
    "version": 3
   },
   "file_extension": ".py",
   "mimetype": "text/x-python",
   "name": "python",
   "nbconvert_exporter": "python",
   "pygments_lexer": "ipython3",
   "version": "3.8.3"
  }
 },
 "nbformat": 4,
 "nbformat_minor": 5
}
