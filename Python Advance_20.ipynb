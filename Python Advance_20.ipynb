{
 "cells": [
  {
   "cell_type": "markdown",
   "id": "370958e8",
   "metadata": {},
   "source": [
    "Q1. Compare and contrast the float and Decimal classes' benefits and drawbacks.\n",
    "\n",
    "Answer: Float stores an approximate value and decimal stores an exact value. In summary, exact values like money should use decimal, and approximate values like scientific measurements should use float. When multiplying a non integer and dividing by that same number, decimals lose precision while floats do not.\n",
    "\n",
    "Q2. Decimal('1.200') and Decimal('1.2') are two objects to consider. In what sense are these the same object? Are these just two ways of representing the exact same value, or do they correspond to different internal states?"
   ]
  },
  {
   "cell_type": "code",
   "execution_count": 4,
   "id": "95d174b9",
   "metadata": {},
   "outputs": [
    {
     "name": "stdout",
     "output_type": "stream",
     "text": [
      "1.2 1.2\n"
     ]
    }
   ],
   "source": [
    "#both provide same value\n",
    "c = 1.200\n",
    "d = 1.2\n",
    "print(c,d)"
   ]
  },
  {
   "cell_type": "code",
   "execution_count": 6,
   "id": "1f919cbc",
   "metadata": {},
   "outputs": [
    {
     "name": "stdout",
     "output_type": "stream",
     "text": [
      "1.2\n",
      "<class 'float'>\n"
     ]
    }
   ],
   "source": [
    "#Q3. What happens if the equality of Decimal('1.200') and Decimal('1.2') is checked?\n",
    "\n",
    "#Answer: Float stores an approximate value and decimal stores an exact value\n",
    "\n",
    "c = 1.200\n",
    "d = 1.2\n",
    "if c==d:\n",
    "    print(d)\n",
    "    print(type(c))\n"
   ]
  },
  {
   "cell_type": "code",
   "execution_count": 7,
   "id": "3452ef97",
   "metadata": {},
   "outputs": [
    {
     "name": "stdout",
     "output_type": "stream",
     "text": [
      "0.142857\n",
      "0.1428571428571428571428571429\n"
     ]
    }
   ],
   "source": [
    "#Q4. Why is it preferable to start a Decimal object with a string rather than a floating-point value?\n",
    "\n",
    "#Answer: Because using floats for currency will just cause errors down the road. floats are NOT usable for representing real world values like money - not reliably, anyways.\n",
    "\n",
    "\n",
    "from decimal import *\n",
    "getcontext().prec = 6\n",
    "print(Decimal(1) / Decimal(7))\n",
    "getcontext().prec = 28\n",
    "print(Decimal(1) / Decimal(7))\n"
   ]
  },
  {
   "cell_type": "code",
   "execution_count": 8,
   "id": "a6365da8",
   "metadata": {},
   "outputs": [
    {
     "data": {
      "text/plain": [
       "1.7"
      ]
     },
     "execution_count": 8,
     "metadata": {},
     "output_type": "execute_result"
    }
   ],
   "source": [
    "#Q5. In an arithmetic phrase, how simple is it to combine Decimal objects with integers?\n",
    "\n",
    "1+.7"
   ]
  },
  {
   "cell_type": "markdown",
   "id": "3eed6f46",
   "metadata": {},
   "source": [
    "Q6. Can Decimal objects and floating-point values be combined easily?\n",
    "\n",
    "Answer: Decimal objects cannot generally be combined with floats or instances of fractions."
   ]
  },
  {
   "cell_type": "code",
   "execution_count": 9,
   "id": "17f510ad",
   "metadata": {},
   "outputs": [
    {
     "name": "stdout",
     "output_type": "stream",
     "text": [
      "11/35\n",
      "5/9\n",
      "0\n"
     ]
    }
   ],
   "source": [
    "#Q7. Using the Fraction class but not the Decimal class, give an example of a quantity that can be expressed with absolute precision.\n",
    "\n",
    "\n",
    "\n",
    "from fractions import Fraction\n",
    "\n",
    "print (Fraction(11, 35))\n",
    "# returns Fraction(11, 35)\n",
    "print (Fraction(10, 18))\n",
    "# returns Fraction(5, 9)\n",
    "print (Fraction())\n",
    "# returns Fraction(0, 1)"
   ]
  },
  {
   "cell_type": "markdown",
   "id": "c75ada8d",
   "metadata": {},
   "source": [
    "Q8. Describe a quantity that can be accurately expressed by the Decimal or Fraction classes but not by a floating-point value.\n",
    "\n",
    "Answer: 0.00011 is a finite representation of an infinite number of digits. That doesn't help us with floating-point. Floating-point does not represent numbers using repeat bars; it represents them with a fixed number of bits it can be represented by decimal or fraction class\n",
    "\n",
    "Q9.Consider the following two fraction objects: Fraction(1, 2) and Fraction(1, 2). (5, 10). Is the internal state of these two objects the same? Why do you think that is?\n",
    "\n",
    "Answer: the internal state is same will give fraction of 1/2\n",
    "\n",
    "Q10. How do the Fraction class and the integer type (int) relate to each other? Containment or inheritance?\n",
    "\n",
    "Answer: Inheritence"
   ]
  },
  {
   "cell_type": "code",
   "execution_count": null,
   "id": "e8278937",
   "metadata": {},
   "outputs": [],
   "source": []
  }
 ],
 "metadata": {
  "kernelspec": {
   "display_name": "Python 3",
   "language": "python",
   "name": "python3"
  },
  "language_info": {
   "codemirror_mode": {
    "name": "ipython",
    "version": 3
   },
   "file_extension": ".py",
   "mimetype": "text/x-python",
   "name": "python",
   "nbconvert_exporter": "python",
   "pygments_lexer": "ipython3",
   "version": "3.8.3"
  }
 },
 "nbformat": 4,
 "nbformat_minor": 5
}
