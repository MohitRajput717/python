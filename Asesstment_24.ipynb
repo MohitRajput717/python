{
 "cells": [
  {
   "cell_type": "code",
   "execution_count": null,
   "id": "eebb109f",
   "metadata": {},
   "outputs": [],
   "source": [
    "#1. What is the relationship between def statements and lambda expressions ?\n",
    "\n",
    "#def Statement is a statement that produce function\n",
    "#lamda is a expression is produce function"
   ]
  },
  {
   "cell_type": "code",
   "execution_count": 1,
   "id": "35132a82",
   "metadata": {},
   "outputs": [],
   "source": [
    "#2. What is the benefit of lambda?\n",
    "# Fewer Lines of Code − One of the most benefits of a lambda expression is to reduce the amount of code. We know that lambda expressions can be used only with a functional interface."
   ]
  },
  {
   "cell_type": "code",
   "execution_count": null,
   "id": "cb38a043",
   "metadata": {},
   "outputs": [],
   "source": [
    "#3. Compare and contrast map, filter, and reduce.\n",
    "# map creates a new array by transforming every element in an array individually. filter creates a new array by removing elements that don't belong. reduce , on the other hand, takes all of the elements in an array and reduces them into a single value."
   ]
  },
  {
   "cell_type": "code",
   "execution_count": 7,
   "id": "6585dda8",
   "metadata": {},
   "outputs": [
    {
     "name": "stdout",
     "output_type": "stream",
     "text": [
      "True\n",
      "False\n",
      "False\n",
      "False\n",
      "False\n"
     ]
    }
   ],
   "source": [
    "### Map functions\n",
    "Animal = [\"Anteater\", \"Dog\", \"Elephant\", \"Giraffe\", \"Cat\"]\n",
    "map_object = map(lambda s: s[0] == \"A\", Animal)\n",
    "\n",
    "\n",
    "for i in map_object:\n",
    "    print(i)"
   ]
  },
  {
   "cell_type": "code",
   "execution_count": 8,
   "id": "33fbc1b3",
   "metadata": {},
   "outputs": [
    {
     "name": "stdout",
     "output_type": "stream",
     "text": [
      "Anteater\n"
     ]
    }
   ],
   "source": [
    "### Filter function\n",
    "Animal = [\"Anteater\", \"Dog\", \"Elephant\", \"Giraffe\", \"Cat\"]\n",
    "filter_object = filter(lambda s: s[0] == \"A\", Animal)\n",
    "\n",
    "for i in filter_object:\n",
    "    print(i)"
   ]
  },
  {
   "cell_type": "code",
   "execution_count": 9,
   "id": "ae15cd4b",
   "metadata": {},
   "outputs": [
    {
     "name": "stdout",
     "output_type": "stream",
     "text": [
      "18\n",
      "With an initial value: 28\n"
     ]
    }
   ],
   "source": [
    "### Reduce function\n",
    "from functools import reduce\n",
    "\n",
    "list = [4, 3, 8, 3]\n",
    "print(reduce(lambda x, y: x + y, list))\n",
    "print(\"With an initial value: \" + str(reduce(lambda x, y: x + y, list, 10)))"
   ]
  },
  {
   "cell_type": "code",
   "execution_count": 6,
   "id": "ec214a58",
   "metadata": {},
   "outputs": [
    {
     "name": "stdout",
     "output_type": "stream",
     "text": [
      "{'n': 'float', 'b': 'int', 'return': 'result'}\n"
     ]
    }
   ],
   "source": [
    "#4. What are function annotations, and how are they used?\n",
    "#Function annotations are completely optional both for parameters and return value. Function annotations provide a way of associating various parts of a function with arbitrary python expressions at compile time\n",
    "def fib(n:'float', b:'int')-> 'result': \n",
    "    pass\n",
    "print(fib.__annotations__)"
   ]
  },
  {
   "cell_type": "code",
   "execution_count": 5,
   "id": "f8ed6158",
   "metadata": {},
   "outputs": [
    {
     "data": {
      "text/plain": [
       "6"
      ]
     },
     "execution_count": 5,
     "metadata": {},
     "output_type": "execute_result"
    }
   ],
   "source": [
    "# 5What are recursive functions, and how are they used?\n",
    "#A recursive function is a function in code that refers to itself for execution. Recursive functions can be simple or elaborate. They allow for more efficient code writing, for instance, in the listing or compiling of sets of numbers, strings or other variables through a single reiterated process\n",
    "\n",
    "# eg\n",
    "def fact(x):\n",
    "    if x == 1 :\n",
    "        return 1\n",
    "    else :\n",
    "        return x * fact(x-1) # recurtion\n",
    "    \n",
    "fact(3)"
   ]
  },
  {
   "cell_type": "code",
   "execution_count": 4,
   "id": "6685954e",
   "metadata": {},
   "outputs": [
    {
     "data": {
      "text/plain": [
       "\"pace indentation and no tabs.\\nUse docstrings\\nWrap linethat they don’t exceed 79 characters\\nUse of regular and updated comments are valuable to both the coders and users\\nUse of trailing commas : in case of tuple -> ('good',)\\nUse Python’s default UTF-8 or ASCII encodings and not any fancy encodings\\nNaming Conventions 8.Characters that should not be used for identifiers : ‘l’ (lowercase letter el), ‘O’ (uppercase letter oh), ‘I’ (uppercase letter eye) as single character variable names as these are similar to the numerals one and zero.\""
      ]
     },
     "execution_count": 4,
     "metadata": {},
     "output_type": "execute_result"
    }
   ],
   "source": [
    "#What are some general design guidelines for coding functions?\n",
    "'''pace indentation and no tabs.\n",
    "Use docstrings\n",
    "Wrap linethat they don’t exceed 79 characters\n",
    "Use of regular and updated comments are valuable to both the coders and users\n",
    "Use of trailing commas : in case of tuple -> ('good',)\n",
    "Use Python’s default UTF-8 or ASCII encodings and not any fancy encodings\n",
    "Naming Conventions 8.Characters that should not be used for identifiers : ‘l’ (lowercase letter el), ‘O’ (uppercase letter oh), ‘I’ (uppercase letter eye) as single character variable names as these are similar to the numerals one and zero.'''"
   ]
  },
  {
   "cell_type": "code",
   "execution_count": null,
   "id": "9b57c0fb",
   "metadata": {},
   "outputs": [],
   "source": [
    "# Name three or more ways that functions can communicate results to a caller.\n",
    "'''Function can return single value\n",
    "Can return multiple values, tuple\n",
    "can return list,dictionary\n",
    "can return function object\n",
    "can return class object"
   ]
  }
 ],
 "metadata": {
  "kernelspec": {
   "display_name": "Python 3",
   "language": "python",
   "name": "python3"
  },
  "language_info": {
   "codemirror_mode": {
    "name": "ipython",
    "version": 3
   },
   "file_extension": ".py",
   "mimetype": "text/x-python",
   "name": "python",
   "nbconvert_exporter": "python",
   "pygments_lexer": "ipython3",
   "version": "3.8.3"
  }
 },
 "nbformat": 4,
 "nbformat_minor": 5
}
