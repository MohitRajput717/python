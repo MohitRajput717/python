{
 "cells": [
  {
   "cell_type": "markdown",
   "id": "7ce53f3d",
   "metadata": {},
   "source": [
    "Q1. What is the concept of a metaclass?\n",
    "\n",
    "Ans: Metaclass in Python is a class of a class that defines how a class behaves. A class is itself a instance of Metaclass, and any Instance of Class in Python is an Instance of type metaclass. E.g. Type of of int, str, float, list, tuple and many more is of metaclass type."
   ]
  },
  {
   "cell_type": "code",
   "execution_count": 9,
   "id": "32f6eaf9",
   "metadata": {},
   "outputs": [
    {
     "name": "stdout",
     "output_type": "stream",
     "text": [
      "Type of stu_obj is: <class '__main__.Student'>\n"
     ]
    }
   ],
   "source": [
    "class Student:\n",
    "\tpass\n",
    "stu_obj = Student()\n",
    "# Print type of object of Student class\n",
    "print(\"Type of stu_obj is:\", type(stu_obj))\n",
    "# In the above example, if we try to find out the type of Student class, it comes out to be a type."
   ]
  },
  {
   "cell_type": "code",
   "execution_count": 10,
   "id": "c05e6b20",
   "metadata": {},
   "outputs": [
    {
     "name": "stdout",
     "output_type": "stream",
     "text": [
      "True\n",
      "True\n",
      "True\n"
     ]
    }
   ],
   "source": [
    "#Q2. What is the best way to declare a class's metaclass?\n",
    "\n",
    "\n",
    "\n",
    "n = 5\n",
    "d = { 'x' : 1, 'y' : 2 }\n",
    "class Foo:\n",
    "     pass\n",
    "x = Foo()\n",
    "for obj in (n, d, x):\n",
    "  print(type(obj) is obj.__class__)"
   ]
  },
  {
   "cell_type": "code",
   "execution_count": 8,
   "id": "0a2f8f8e",
   "metadata": {},
   "outputs": [
    {
     "name": "stdout",
     "output_type": "stream",
     "text": [
      "<class 'type'>\n",
      "<class '__main__.meta'>\n"
     ]
    }
   ],
   "source": [
    "class meta(type):\n",
    "    pass\n",
    "class class_meta(metaclass=meta):\n",
    "    pass\n",
    "print(type(meta))\n",
    "print(type(class_meta))"
   ]
  },
  {
   "cell_type": "markdown",
   "id": "de90f0bc",
   "metadata": {},
   "source": [
    "Q3. How do class decorators overlap with metaclasses for handling classes ?\n",
    "\n",
    "Ans: Anything you can do with a class decorator, you can of course do with a custom metaclasses (just apply the functionality of the \"decorator function\", i.e., the one that takes a class object and modifies it, in the course of the metaclass's __new__ or __init__ that make the class object!).\n",
    "\n",
    "Q4. How do class decorators overlap with metaclasses for handling instances?\n",
    "\n",
    "Ans: Anything you can do with a class decorator, you can of course do with a custom metaclass (just apply the functionality of the \"decorator function\", i.e., the one that takes a class object and modifies it, in the course of the metaclass's __new__ or __init__ that make the class object!)."
   ]
  },
  {
   "cell_type": "code",
   "execution_count": null,
   "id": "4069f5a0",
   "metadata": {},
   "outputs": [],
   "source": []
  }
 ],
 "metadata": {
  "kernelspec": {
   "display_name": "Python 3",
   "language": "python",
   "name": "python3"
  },
  "language_info": {
   "codemirror_mode": {
    "name": "ipython",
    "version": 3
   },
   "file_extension": ".py",
   "mimetype": "text/x-python",
   "name": "python",
   "nbconvert_exporter": "python",
   "pygments_lexer": "ipython3",
   "version": "3.8.3"
  }
 },
 "nbformat": 4,
 "nbformat_minor": 5
}
